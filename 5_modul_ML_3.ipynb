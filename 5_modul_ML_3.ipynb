{
  "nbformat": 4,
  "nbformat_minor": 0,
  "metadata": {
    "colab": {
      "provenance": [],
      "authorship_tag": "ABX9TyPTQiog1ZyLE1Q9xYYEjC+z",
      "include_colab_link": true
    },
    "kernelspec": {
      "name": "python3",
      "display_name": "Python 3"
    },
    "language_info": {
      "name": "python"
    }
  },
  "cells": [
    {
      "cell_type": "markdown",
      "metadata": {
        "id": "view-in-github",
        "colab_type": "text"
      },
      "source": [
        "<a href=\"https://colab.research.google.com/github/asilbek-data-scientist/2_modul/blob/main/5_modul_ML_3.ipynb\" target=\"_parent\"><img src=\"https://colab.research.google.com/assets/colab-badge.svg\" alt=\"Open In Colab\"/></a>"
      ]
    },
    {
      "cell_type": "code",
      "execution_count": null,
      "metadata": {
        "id": "isFeUTbId6hm"
      },
      "outputs": [],
      "source": [
        "import pandas as pd\n",
        "import numpy as np\n",
        "import sklearn # scikit-learn kutubxonasi\n",
        "\n",
        "# online dataset joylashgan manzilini ko'rsatamiz\n",
        "URL = \"https://github.com/ageron/handson-ml2/blob/master/datasets/housing/housing.csv?raw=true\"\n",
        "df = pd.read_csv(URL)\n",
        "\n",
        "from sklearn.model_selection import train_test_split\n",
        "train_set, test_set = train_test_split(df, test_size=0.2, random_state=42)\n",
        "\n",
        "housing = train_set.drop(\"median_house_value\", axis=1)\n",
        "housing_labels = train_set[\"median_house_value\"].copy()\n",
        "\n",
        "housing_num = housing.drop('ocean_proximity', axis=1)"
      ]
    },
    {
      "cell_type": "code",
      "source": [
        "from sklearn.base import BaseEstimator, TransformerMixin\n",
        "# bizga kearak ustyunlarni indekslari\n",
        "rooms_ix, bedrooms_ix, population_ix, households_ix = 3, 4, 5, 6\n",
        "\n",
        "class CombinedAttributesAddder(BaseEstimator, TransformerMixin):\n",
        "  def __init__ (self, add_bedrooms_per_room = True):\n",
        "    self.add_bedrooms_per_room = add_bedrooms_per_room\n",
        "  def fit(self, X, y=None):\n",
        "    return self # bizni funksiyamiz faqat transformer. estimator emas\n",
        "  def transform(self, X):\n",
        "    rooms_per_household = X[:, rooms_ix] / X[:, households_ix]\n",
        "    population_per_household = X[:, population_ix] / X[:, households_ix]\n",
        "    if self.add_bedrooms_per_room: # add_bedrooms_per_room ustuni ixtiyoriy bo'ladi.\n",
        "      bedrooms_per_room = X[:, bedrooms_ix] / X[:, rooms_ix]\n",
        "      return np.c_[X, rooms_per_household, population_per_household, bedrooms_per_room]\n",
        "    else:\n",
        "      return np.c_[X, rooms_per_household], population_per_household"
      ],
      "metadata": {
        "id": "X0ugEQorgt99"
      },
      "execution_count": null,
      "outputs": []
    },
    {
      "cell_type": "code",
      "source": [
        "from sklearn.pipeline import Pipeline  \n",
        "from sklearn.impute import SimpleImputer\n",
        "from sklearn.preprocessing import OneHotEncoder, StandardScaler\n",
        "num_pipeline = Pipeline([\n",
        "    ('imputer', SimpleImputer(strategy='median')), # nan qiymatlarni median qiymatlar bn almashtiradi.\n",
        "    ('attribs_adder', CombinedAttributesAddder(add_bedrooms_per_room=True)), # yangi ustunlarni qo'shyapmiz\n",
        "    ('std_scaler',  StandardScaler()) # sonlarni ma'lum bir oraliqdagi sonlarga almashitiradi\n",
        "])\n",
        "num_pipeline.fit_transform(housing_num)"
      ],
      "metadata": {
        "colab": {
          "base_uri": "https://localhost:8080/"
        },
        "id": "6Uk_EOc0oCOC",
        "outputId": "9a6c6fc4-0692-4df2-9cb6-9daefcc423f2"
      },
      "execution_count": null,
      "outputs": [
        {
          "output_type": "execute_result",
          "data": {
            "text/plain": [
              "array([[ 1.27258656, -1.3728112 ,  0.34849025, ..., -0.17491646,\n",
              "         0.05137609, -0.2117846 ],\n",
              "       [ 0.70916212, -0.87669601,  1.61811813, ..., -0.40283542,\n",
              "        -0.11736222,  0.34218528],\n",
              "       [-0.44760309, -0.46014647, -1.95271028, ...,  0.08821601,\n",
              "        -0.03227969, -0.66165785],\n",
              "       ...,\n",
              "       [ 0.59946887, -0.75500738,  0.58654547, ..., -0.60675918,\n",
              "         0.02030568,  0.99951387],\n",
              "       [-1.18553953,  0.90651045, -1.07984112, ...,  0.40217517,\n",
              "         0.00707608, -0.79086209],\n",
              "       [-1.41489815,  0.99543676,  1.85617335, ..., -0.85144571,\n",
              "        -0.08535429,  1.69520292]])"
            ]
          },
          "metadata": {},
          "execution_count": 5
        }
      ]
    },
    {
      "cell_type": "code",
      "source": [
        "from sklearn.compose import ColumnTransformer\n",
        "\n",
        "num_attribs = list(housing_num) # sonli ustunlar\n",
        "cat_attribs = ['ocean_proximity']\n",
        "\n",
        "full_pipeline = ColumnTransformer([\n",
        "    ('num', num_pipeline, num_attribs), #num_attribs uchun num_pipeline ni bajar.\n",
        "    ('cat', OneHotEncoder(), cat_attribs) # cat_attribs uchun OneHotEncoder ni bajar\n",
        "])"
      ],
      "metadata": {
        "id": "DoDdxEMvrZww"
      },
      "execution_count": null,
      "outputs": []
    },
    {
      "cell_type": "code",
      "source": [
        "housing_prepared = full_pipeline.fit_transform(housing)  # Machine learning uchun ma'lumot tayyor.\n",
        "housing_prepared[0:5, :] "
      ],
      "metadata": {
        "colab": {
          "base_uri": "https://localhost:8080/"
        },
        "id": "C7BZ36n3sKQ5",
        "outputId": "86f3efa2-ee4e-4694-fa8a-81f4f5bb8c42"
      },
      "execution_count": null,
      "outputs": [
        {
          "output_type": "execute_result",
          "data": {
            "text/plain": [
              "array([[ 1.27258656, -1.3728112 ,  0.34849025,  0.22256942,  0.21122752,\n",
              "         0.76827628,  0.32290591, -0.326196  , -0.17491646,  0.05137609,\n",
              "        -0.2117846 ,  0.        ,  0.        ,  0.        ,  0.        ,\n",
              "         1.        ],\n",
              "       [ 0.70916212, -0.87669601,  1.61811813,  0.34029326,  0.59309419,\n",
              "        -0.09890135,  0.6720272 , -0.03584338, -0.40283542, -0.11736222,\n",
              "         0.34218528,  0.        ,  0.        ,  0.        ,  0.        ,\n",
              "         1.        ],\n",
              "       [-0.44760309, -0.46014647, -1.95271028, -0.34259695, -0.49522582,\n",
              "        -0.44981806, -0.43046109,  0.14470145,  0.08821601, -0.03227969,\n",
              "        -0.66165785,  0.        ,  0.        ,  0.        ,  0.        ,\n",
              "         1.        ],\n",
              "       [ 1.23269811, -1.38217186,  0.58654547, -0.56148971, -0.40930582,\n",
              "        -0.00743434, -0.38058662, -1.01786438, -0.60001532,  0.07750687,\n",
              "         0.78303162,  0.        ,  0.        ,  0.        ,  0.        ,\n",
              "         1.        ],\n",
              "       [-0.10855122,  0.5320839 ,  1.14200767, -0.11956547, -0.25655915,\n",
              "        -0.48587717, -0.31496232, -0.17148831,  0.3490073 , -0.06883176,\n",
              "        -0.55036364,  0.        ,  1.        ,  0.        ,  0.        ,\n",
              "         0.        ]])"
            ]
          },
          "metadata": {},
          "execution_count": 13
        }
      ]
    },
    {
      "cell_type": "code",
      "source": [
        "\n",
        "\n"
      ],
      "metadata": {
        "id": "AYKeFTbfsOwG"
      },
      "execution_count": null,
      "outputs": []
    }
  ]
}